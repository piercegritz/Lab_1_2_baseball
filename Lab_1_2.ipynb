{
 "cells": [
  {
   "cell_type": "code",
   "execution_count": 5,
   "id": "1c4e8d68-0e32-4d30-ae1f-d82b735ce1bc",
   "metadata": {},
   "outputs": [],
   "source": [
    "import polars as pl\n",
    "import requests\n",
    "from zipfile import ZipFile\n",
    "from glob import glob\n",
    "import os"
   ]
  },
  {
   "cell_type": "code",
   "execution_count": 19,
   "id": "da138e53-9568-4434-b6b8-3d83022c9f82",
   "metadata": {},
   "outputs": [
    {
     "data": {
      "text/html": [
       "<div><style>\n",
       ".dataframe > thead > tr,\n",
       ".dataframe > tbody > tr {\n",
       "  text-align: right;\n",
       "  white-space: pre-wrap;\n",
       "}\n",
       "</style>\n",
       "<small>shape: (5, 30)</small><table border=\"1\" class=\"dataframe\"><thead><tr><th>playerID</th><th>yearID</th><th>stint</th><th>teamID</th><th>lgID</th><th>W</th><th>L</th><th>G</th><th>GS</th><th>CG</th><th>SHO</th><th>SV</th><th>IPouts</th><th>H</th><th>ER</th><th>HR</th><th>BB</th><th>SO</th><th>BAOpp</th><th>ERA</th><th>IBB</th><th>WP</th><th>HBP</th><th>BK</th><th>BFP</th><th>GF</th><th>R</th><th>SH</th><th>SF</th><th>GIDP</th></tr><tr><td>str</td><td>i64</td><td>i64</td><td>str</td><td>str</td><td>i64</td><td>i64</td><td>i64</td><td>i64</td><td>i64</td><td>i64</td><td>i64</td><td>i64</td><td>i64</td><td>i64</td><td>i64</td><td>i64</td><td>i64</td><td>f64</td><td>f64</td><td>i64</td><td>i64</td><td>i64</td><td>i64</td><td>i64</td><td>i64</td><td>i64</td><td>i64</td><td>i64</td><td>i64</td></tr></thead><tbody><tr><td>&quot;aardsda01&quot;</td><td>2004</td><td>1</td><td>&quot;SFN&quot;</td><td>&quot;NL&quot;</td><td>1</td><td>0</td><td>11</td><td>0</td><td>0</td><td>0</td><td>0</td><td>32</td><td>20</td><td>8</td><td>1</td><td>10</td><td>5</td><td>0.417</td><td>6.75</td><td>0</td><td>0</td><td>2</td><td>0</td><td>61</td><td>5</td><td>8</td><td>0</td><td>1</td><td>1</td></tr><tr><td>&quot;aardsda01&quot;</td><td>2006</td><td>1</td><td>&quot;CHN&quot;</td><td>&quot;NL&quot;</td><td>3</td><td>0</td><td>45</td><td>0</td><td>0</td><td>0</td><td>0</td><td>159</td><td>41</td><td>24</td><td>9</td><td>28</td><td>49</td><td>0.214</td><td>4.08</td><td>0</td><td>1</td><td>1</td><td>0</td><td>225</td><td>9</td><td>25</td><td>1</td><td>3</td><td>2</td></tr><tr><td>&quot;aardsda01&quot;</td><td>2007</td><td>1</td><td>&quot;CHA&quot;</td><td>&quot;AL&quot;</td><td>2</td><td>1</td><td>25</td><td>0</td><td>0</td><td>0</td><td>0</td><td>97</td><td>39</td><td>23</td><td>4</td><td>17</td><td>36</td><td>0.3</td><td>6.4</td><td>3</td><td>2</td><td>1</td><td>0</td><td>151</td><td>7</td><td>24</td><td>2</td><td>1</td><td>1</td></tr><tr><td>&quot;aardsda01&quot;</td><td>2008</td><td>1</td><td>&quot;BOS&quot;</td><td>&quot;AL&quot;</td><td>4</td><td>2</td><td>47</td><td>0</td><td>0</td><td>0</td><td>0</td><td>146</td><td>49</td><td>30</td><td>4</td><td>35</td><td>49</td><td>0.268</td><td>5.55</td><td>2</td><td>3</td><td>5</td><td>0</td><td>228</td><td>7</td><td>32</td><td>3</td><td>2</td><td>4</td></tr><tr><td>&quot;aardsda01&quot;</td><td>2009</td><td>1</td><td>&quot;SEA&quot;</td><td>&quot;AL&quot;</td><td>3</td><td>6</td><td>73</td><td>0</td><td>0</td><td>0</td><td>38</td><td>214</td><td>49</td><td>20</td><td>4</td><td>34</td><td>80</td><td>0.19</td><td>2.52</td><td>3</td><td>2</td><td>0</td><td>0</td><td>296</td><td>53</td><td>23</td><td>2</td><td>1</td><td>2</td></tr></tbody></table></div>"
      ],
      "text/plain": [
       "shape: (5, 30)\n",
       "┌───────────┬────────┬───────┬────────┬───┬─────┬─────┬─────┬──────┐\n",
       "│ playerID  ┆ yearID ┆ stint ┆ teamID ┆ … ┆ R   ┆ SH  ┆ SF  ┆ GIDP │\n",
       "│ ---       ┆ ---    ┆ ---   ┆ ---    ┆   ┆ --- ┆ --- ┆ --- ┆ ---  │\n",
       "│ str       ┆ i64    ┆ i64   ┆ str    ┆   ┆ i64 ┆ i64 ┆ i64 ┆ i64  │\n",
       "╞═══════════╪════════╪═══════╪════════╪═══╪═════╪═════╪═════╪══════╡\n",
       "│ aardsda01 ┆ 2004   ┆ 1     ┆ SFN    ┆ … ┆ 8   ┆ 0   ┆ 1   ┆ 1    │\n",
       "│ aardsda01 ┆ 2006   ┆ 1     ┆ CHN    ┆ … ┆ 25  ┆ 1   ┆ 3   ┆ 2    │\n",
       "│ aardsda01 ┆ 2007   ┆ 1     ┆ CHA    ┆ … ┆ 24  ┆ 2   ┆ 1   ┆ 1    │\n",
       "│ aardsda01 ┆ 2008   ┆ 1     ┆ BOS    ┆ … ┆ 32  ┆ 3   ┆ 2   ┆ 4    │\n",
       "│ aardsda01 ┆ 2009   ┆ 1     ┆ SEA    ┆ … ┆ 23  ┆ 2   ┆ 1   ┆ 2    │\n",
       "└───────────┴────────┴───────┴────────┴───┴─────┴─────┴─────┴──────┘"
      ]
     },
     "execution_count": 19,
     "metadata": {},
     "output_type": "execute_result"
    }
   ],
   "source": [
    "pitching = pl.read_csv(\"./data/lahman_1871-2024_csv/lahman_1871-2024_csv/Pitching.csv\")\n",
    "\n",
    "(pitching.head())"
   ]
  },
  {
   "cell_type": "code",
   "execution_count": 23,
   "id": "f8e9a99e-48a6-41fa-b744-1896c91e2180",
   "metadata": {},
   "outputs": [
    {
     "data": {
      "text/html": [
       "<div><style>\n",
       ".dataframe > thead > tr,\n",
       ".dataframe > tbody > tr {\n",
       "  text-align: right;\n",
       "  white-space: pre-wrap;\n",
       "}\n",
       "</style>\n",
       "<small>shape: (158, 5)</small><table border=\"1\" class=\"dataframe\"><thead><tr><th>yearID</th><th>lgID</th><th>total_runs_allowed</th><th>total_innings_pitched</th><th>league_wide_era</th></tr><tr><td>i64</td><td>str</td><td>i64</td><td>i64</td><td>f64</td></tr></thead><tbody><tr><td>2001</td><td>&quot;AL&quot;</td><td>11013</td><td>60639</td><td>4.903626</td></tr><tr><td>2023</td><td>&quot;NL&quot;</td><td>11322</td><td>64529</td><td>4.737312</td></tr><tr><td>2007</td><td>&quot;NL&quot;</td><td>12388</td><td>69742</td><td>4.795905</td></tr><tr><td>2005</td><td>&quot;AL&quot;</td><td>10616</td><td>60540</td><td>4.734589</td></tr><tr><td>1991</td><td>&quot;NL&quot;</td><td>7955</td><td>52163</td><td>4.117574</td></tr><tr><td>&hellip;</td><td>&hellip;</td><td>&hellip;</td><td>&hellip;</td><td>&hellip;</td></tr><tr><td>2019</td><td>&quot;AL&quot;</td><td>12018</td><td>65072</td><td>4.986569</td></tr><tr><td>2009</td><td>&quot;NL&quot;</td><td>11626</td><td>69296</td><td>4.529872</td></tr><tr><td>1988</td><td>&quot;NL&quot;</td><td>7522</td><td>52442</td><td>3.872736</td></tr><tr><td>2015</td><td>&quot;AL&quot;</td><td>10422</td><td>65083</td><td>4.323618</td></tr><tr><td>1967</td><td>&quot;NL&quot;</td><td>6218</td><td>43748</td><td>3.83757</td></tr></tbody></table></div>"
      ],
      "text/plain": [
       "shape: (158, 5)\n",
       "┌────────┬──────┬────────────────────┬───────────────────────┬─────────────────┐\n",
       "│ yearID ┆ lgID ┆ total_runs_allowed ┆ total_innings_pitched ┆ league_wide_era │\n",
       "│ ---    ┆ ---  ┆ ---                ┆ ---                   ┆ ---             │\n",
       "│ i64    ┆ str  ┆ i64                ┆ i64                   ┆ f64             │\n",
       "╞════════╪══════╪════════════════════╪═══════════════════════╪═════════════════╡\n",
       "│ 2001   ┆ AL   ┆ 11013              ┆ 60639                 ┆ 4.903626        │\n",
       "│ 2023   ┆ NL   ┆ 11322              ┆ 64529                 ┆ 4.737312        │\n",
       "│ 2007   ┆ NL   ┆ 12388              ┆ 69742                 ┆ 4.795905        │\n",
       "│ 2005   ┆ AL   ┆ 10616              ┆ 60540                 ┆ 4.734589        │\n",
       "│ 1991   ┆ NL   ┆ 7955               ┆ 52163                 ┆ 4.117574        │\n",
       "│ …      ┆ …    ┆ …                  ┆ …                     ┆ …               │\n",
       "│ 2019   ┆ AL   ┆ 12018              ┆ 65072                 ┆ 4.986569        │\n",
       "│ 2009   ┆ NL   ┆ 11626              ┆ 69296                 ┆ 4.529872        │\n",
       "│ 1988   ┆ NL   ┆ 7522               ┆ 52442                 ┆ 3.872736        │\n",
       "│ 2015   ┆ AL   ┆ 10422              ┆ 65083                 ┆ 4.323618        │\n",
       "│ 1967   ┆ NL   ┆ 6218               ┆ 43748                 ┆ 3.83757         │\n",
       "└────────┴──────┴────────────────────┴───────────────────────┴─────────────────┘"
      ]
     },
     "execution_count": 23,
     "metadata": {},
     "output_type": "execute_result"
    }
   ],
   "source": [
    "(pitching \n",
    " .filter(pl.col(\"yearID\") >= 1946)\n",
    " .group_by(\"yearID\", \"lgID\")\n",
    " .agg(total_runs_allowed = pl.sum(\"R\"),\n",
    "      total_innings_pitched = pl.sum(\"IPouts\"),\n",
    "     )\n",
    ".with_columns(league_wide_era = ((pl.col(\"total_runs_allowed\") / pl.col(\"total_innings_pitched\") * 27)))\n",
    "\n",
    ".with_columns(dh_state = (pl.when(\"year_id\") >= 1973\n",
    "                          pl.then\n",
    "\n",
    "                         )\n",
    "\n"
   ]
  },
  {
   "cell_type": "code",
   "execution_count": null,
   "id": "ca8d2d66-8310-458a-9b80-612424d67ba2",
   "metadata": {},
   "outputs": [],
   "source": []
  }
 ],
 "metadata": {
  "kernelspec": {
   "display_name": "Python 3 (ipykernel)",
   "language": "python",
   "name": "python3"
  },
  "language_info": {
   "codemirror_mode": {
    "name": "ipython",
    "version": 3
   },
   "file_extension": ".py",
   "mimetype": "text/x-python",
   "name": "python",
   "nbconvert_exporter": "python",
   "pygments_lexer": "ipython3",
   "version": "3.13.5"
  }
 },
 "nbformat": 4,
 "nbformat_minor": 5
}
