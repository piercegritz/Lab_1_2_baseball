{
 "cells": [
  {
   "cell_type": "code",
   "execution_count": 1,
   "id": "1c4e8d68-0e32-4d30-ae1f-d82b735ce1bc",
   "metadata": {},
   "outputs": [],
   "source": [
    "import polars as pl\n",
    "import requests\n",
    "from zipfile import ZipFile\n",
    "from glob import glob\n",
    "import os"
   ]
  },
  {
   "cell_type": "code",
   "execution_count": 9,
   "id": "da138e53-9568-4434-b6b8-3d83022c9f82",
   "metadata": {},
   "outputs": [
    {
     "data": {
      "text/html": [
       "<div><style>\n",
       ".dataframe > thead > tr,\n",
       ".dataframe > tbody > tr {\n",
       "  text-align: right;\n",
       "  white-space: pre-wrap;\n",
       "}\n",
       "</style>\n",
       "<small>shape: (5, 30)</small><table border=\"1\" class=\"dataframe\"><thead><tr><th>playerID</th><th>yearID</th><th>stint</th><th>teamID</th><th>lgID</th><th>W</th><th>L</th><th>G</th><th>GS</th><th>CG</th><th>SHO</th><th>SV</th><th>IPouts</th><th>H</th><th>ER</th><th>HR</th><th>BB</th><th>SO</th><th>BAOpp</th><th>ERA</th><th>IBB</th><th>WP</th><th>HBP</th><th>BK</th><th>BFP</th><th>GF</th><th>R</th><th>SH</th><th>SF</th><th>GIDP</th></tr><tr><td>str</td><td>i64</td><td>i64</td><td>str</td><td>str</td><td>i64</td><td>i64</td><td>i64</td><td>i64</td><td>i64</td><td>i64</td><td>i64</td><td>i64</td><td>i64</td><td>i64</td><td>i64</td><td>i64</td><td>i64</td><td>f64</td><td>f64</td><td>i64</td><td>i64</td><td>i64</td><td>i64</td><td>i64</td><td>i64</td><td>i64</td><td>i64</td><td>i64</td><td>i64</td></tr></thead><tbody><tr><td>&quot;aardsda01&quot;</td><td>2004</td><td>1</td><td>&quot;SFN&quot;</td><td>&quot;NL&quot;</td><td>1</td><td>0</td><td>11</td><td>0</td><td>0</td><td>0</td><td>0</td><td>32</td><td>20</td><td>8</td><td>1</td><td>10</td><td>5</td><td>0.417</td><td>6.75</td><td>0</td><td>0</td><td>2</td><td>0</td><td>61</td><td>5</td><td>8</td><td>0</td><td>1</td><td>1</td></tr><tr><td>&quot;aardsda01&quot;</td><td>2006</td><td>1</td><td>&quot;CHN&quot;</td><td>&quot;NL&quot;</td><td>3</td><td>0</td><td>45</td><td>0</td><td>0</td><td>0</td><td>0</td><td>159</td><td>41</td><td>24</td><td>9</td><td>28</td><td>49</td><td>0.214</td><td>4.08</td><td>0</td><td>1</td><td>1</td><td>0</td><td>225</td><td>9</td><td>25</td><td>1</td><td>3</td><td>2</td></tr><tr><td>&quot;aardsda01&quot;</td><td>2007</td><td>1</td><td>&quot;CHA&quot;</td><td>&quot;AL&quot;</td><td>2</td><td>1</td><td>25</td><td>0</td><td>0</td><td>0</td><td>0</td><td>97</td><td>39</td><td>23</td><td>4</td><td>17</td><td>36</td><td>0.3</td><td>6.4</td><td>3</td><td>2</td><td>1</td><td>0</td><td>151</td><td>7</td><td>24</td><td>2</td><td>1</td><td>1</td></tr><tr><td>&quot;aardsda01&quot;</td><td>2008</td><td>1</td><td>&quot;BOS&quot;</td><td>&quot;AL&quot;</td><td>4</td><td>2</td><td>47</td><td>0</td><td>0</td><td>0</td><td>0</td><td>146</td><td>49</td><td>30</td><td>4</td><td>35</td><td>49</td><td>0.268</td><td>5.55</td><td>2</td><td>3</td><td>5</td><td>0</td><td>228</td><td>7</td><td>32</td><td>3</td><td>2</td><td>4</td></tr><tr><td>&quot;aardsda01&quot;</td><td>2009</td><td>1</td><td>&quot;SEA&quot;</td><td>&quot;AL&quot;</td><td>3</td><td>6</td><td>73</td><td>0</td><td>0</td><td>0</td><td>38</td><td>214</td><td>49</td><td>20</td><td>4</td><td>34</td><td>80</td><td>0.19</td><td>2.52</td><td>3</td><td>2</td><td>0</td><td>0</td><td>296</td><td>53</td><td>23</td><td>2</td><td>1</td><td>2</td></tr></tbody></table></div>"
      ],
      "text/plain": [
       "shape: (5, 30)\n",
       "┌───────────┬────────┬───────┬────────┬───┬─────┬─────┬─────┬──────┐\n",
       "│ playerID  ┆ yearID ┆ stint ┆ teamID ┆ … ┆ R   ┆ SH  ┆ SF  ┆ GIDP │\n",
       "│ ---       ┆ ---    ┆ ---   ┆ ---    ┆   ┆ --- ┆ --- ┆ --- ┆ ---  │\n",
       "│ str       ┆ i64    ┆ i64   ┆ str    ┆   ┆ i64 ┆ i64 ┆ i64 ┆ i64  │\n",
       "╞═══════════╪════════╪═══════╪════════╪═══╪═════╪═════╪═════╪══════╡\n",
       "│ aardsda01 ┆ 2004   ┆ 1     ┆ SFN    ┆ … ┆ 8   ┆ 0   ┆ 1   ┆ 1    │\n",
       "│ aardsda01 ┆ 2006   ┆ 1     ┆ CHN    ┆ … ┆ 25  ┆ 1   ┆ 3   ┆ 2    │\n",
       "│ aardsda01 ┆ 2007   ┆ 1     ┆ CHA    ┆ … ┆ 24  ┆ 2   ┆ 1   ┆ 1    │\n",
       "│ aardsda01 ┆ 2008   ┆ 1     ┆ BOS    ┆ … ┆ 32  ┆ 3   ┆ 2   ┆ 4    │\n",
       "│ aardsda01 ┆ 2009   ┆ 1     ┆ SEA    ┆ … ┆ 23  ┆ 2   ┆ 1   ┆ 2    │\n",
       "└───────────┴────────┴───────┴────────┴───┴─────┴─────┴─────┴──────┘"
      ]
     },
     "execution_count": 9,
     "metadata": {},
     "output_type": "execute_result"
    }
   ],
   "source": [
    "pitching = pl.read_csv(\"./data/lahman_1871-2024_csv/lahman_1871-2024_csv/Pitching.csv\")\n",
    "(pitching.head())"
   ]
  },
  {
   "cell_type": "code",
   "execution_count": 10,
   "id": "f8e9a99e-48a6-41fa-b744-1896c91e2180",
   "metadata": {},
   "outputs": [
    {
     "data": {
      "text/html": [
       "<div><style>\n",
       ".dataframe > thead > tr,\n",
       ".dataframe > tbody > tr {\n",
       "  text-align: right;\n",
       "  white-space: pre-wrap;\n",
       "}\n",
       "</style>\n",
       "<small>shape: (5, 4)</small><table border=\"1\" class=\"dataframe\"><thead><tr><th>lgID</th><th>yearID</th><th>league_wide_era</th><th>dh_state</th></tr><tr><td>str</td><td>i64</td><td>f64</td><td>str</td></tr></thead><tbody><tr><td>&quot;AL&quot;</td><td>2024</td><td>4.399926</td><td>&quot;with DH&quot;</td></tr><tr><td>&quot;NL&quot;</td><td>2024</td><td>4.51015</td><td>&quot;with DH&quot;</td></tr><tr><td>&quot;NL&quot;</td><td>2023</td><td>4.737312</td><td>&quot;with DH&quot;</td></tr><tr><td>&quot;AL&quot;</td><td>2023</td><td>4.633958</td><td>&quot;with DH&quot;</td></tr><tr><td>&quot;NL&quot;</td><td>2022</td><td>4.434609</td><td>&quot;with DH&quot;</td></tr></tbody></table></div>"
      ],
      "text/plain": [
       "shape: (5, 4)\n",
       "┌──────┬────────┬─────────────────┬──────────┐\n",
       "│ lgID ┆ yearID ┆ league_wide_era ┆ dh_state │\n",
       "│ ---  ┆ ---    ┆ ---             ┆ ---      │\n",
       "│ str  ┆ i64    ┆ f64             ┆ str      │\n",
       "╞══════╪════════╪═════════════════╪══════════╡\n",
       "│ AL   ┆ 2024   ┆ 4.399926        ┆ with DH  │\n",
       "│ NL   ┆ 2024   ┆ 4.51015         ┆ with DH  │\n",
       "│ NL   ┆ 2023   ┆ 4.737312        ┆ with DH  │\n",
       "│ AL   ┆ 2023   ┆ 4.633958        ┆ with DH  │\n",
       "│ NL   ┆ 2022   ┆ 4.434609        ┆ with DH  │\n",
       "└──────┴────────┴─────────────────┴──────────┘"
      ]
     },
     "execution_count": 10,
     "metadata": {},
     "output_type": "execute_result"
    }
   ],
   "source": [
    "pitching_era =(pitching \n",
    " .filter(pl.col(\"yearID\") >= 1946)\n",
    " .group_by(\"yearID\", \"lgID\")\n",
    " .agg(total_runs_allowed = pl.sum(\"R\"),\n",
    "      total_innings_pitched = pl.sum(\"IPouts\"),\n",
    "     )\n",
    ".with_columns(league_wide_era = ((pl.col(\"total_runs_allowed\") / pl.col(\"total_innings_pitched\") * 27)))\n",
    "\n",
    ".with_columns( dh_state = (pl.when(((pl.col(\"lgID\") == \"AL\") & (pl.col(\"yearID\") >= 1973)) |((pl.col(\"lgID\") == \"NL\") & (pl.col(\"yearID\") >= 2022))\n",
    "        ) .then(pl.lit(\"with DH\"))\n",
    "         .otherwise(pl.lit(\"No DH\"))\n",
    "    )\n",
    ")\n",
    "\n",
    ".select(pl.col(\"lgID\", \"yearID\", \"league_wide_era\", \"dh_state\"))\n",
    ".sort(\"yearID\", descending=True)\n",
    ") \n",
    "pitching_era.head()\n"
   ]
  },
  {
   "cell_type": "code",
   "execution_count": 16,
   "id": "1c0e560a-70f3-4897-b735-260211fc9621",
   "metadata": {},
   "outputs": [],
   "source": [
    "pitching_era.write_csv(\"data/pitching_era_with_dh.csv\")"
   ]
  },
  {
   "cell_type": "code",
   "execution_count": 12,
   "id": "ca8d2d66-8310-458a-9b80-612424d67ba2",
   "metadata": {},
   "outputs": [
    {
     "data": {
      "text/html": [
       "<div><style>\n",
       ".dataframe > thead > tr,\n",
       ".dataframe > tbody > tr {\n",
       "  text-align: right;\n",
       "  white-space: pre-wrap;\n",
       "}\n",
       "</style>\n",
       "<small>shape: (5, 24)</small><table border=\"1\" class=\"dataframe\"><thead><tr><th>playerID</th><th>yearID</th><th>stint</th><th>teamID</th><th>lgID</th><th>G</th><th>G_batting</th><th>AB</th><th>R</th><th>H</th><th>2B</th><th>3B</th><th>HR</th><th>RBI</th><th>SB</th><th>CS</th><th>BB</th><th>SO</th><th>IBB</th><th>HBP</th><th>SH</th><th>SF</th><th>GIDP</th><th>G_old</th></tr><tr><td>str</td><td>i64</td><td>i64</td><td>str</td><td>str</td><td>i64</td><td>i64</td><td>i64</td><td>i64</td><td>i64</td><td>i64</td><td>i64</td><td>i64</td><td>i64</td><td>i64</td><td>i64</td><td>i64</td><td>i64</td><td>i64</td><td>i64</td><td>i64</td><td>i64</td><td>i64</td><td>i64</td></tr></thead><tbody><tr><td>&quot;aardsda01&quot;</td><td>2004</td><td>1</td><td>&quot;SFN&quot;</td><td>&quot;NL&quot;</td><td>11</td><td>null</td><td>0</td><td>0</td><td>0</td><td>0</td><td>0</td><td>0</td><td>0</td><td>0</td><td>0</td><td>0</td><td>0</td><td>0</td><td>0</td><td>0</td><td>0</td><td>0</td><td>null</td></tr><tr><td>&quot;aardsda01&quot;</td><td>2006</td><td>1</td><td>&quot;CHN&quot;</td><td>&quot;NL&quot;</td><td>45</td><td>null</td><td>2</td><td>0</td><td>0</td><td>0</td><td>0</td><td>0</td><td>0</td><td>0</td><td>0</td><td>0</td><td>0</td><td>0</td><td>0</td><td>1</td><td>0</td><td>0</td><td>null</td></tr><tr><td>&quot;aardsda01&quot;</td><td>2007</td><td>1</td><td>&quot;CHA&quot;</td><td>&quot;AL&quot;</td><td>25</td><td>null</td><td>0</td><td>0</td><td>0</td><td>0</td><td>0</td><td>0</td><td>0</td><td>0</td><td>0</td><td>0</td><td>0</td><td>0</td><td>0</td><td>0</td><td>0</td><td>0</td><td>null</td></tr><tr><td>&quot;aardsda01&quot;</td><td>2008</td><td>1</td><td>&quot;BOS&quot;</td><td>&quot;AL&quot;</td><td>47</td><td>null</td><td>1</td><td>0</td><td>0</td><td>0</td><td>0</td><td>0</td><td>0</td><td>0</td><td>0</td><td>0</td><td>1</td><td>0</td><td>0</td><td>0</td><td>0</td><td>0</td><td>null</td></tr><tr><td>&quot;aardsda01&quot;</td><td>2009</td><td>1</td><td>&quot;SEA&quot;</td><td>&quot;AL&quot;</td><td>73</td><td>null</td><td>0</td><td>0</td><td>0</td><td>0</td><td>0</td><td>0</td><td>0</td><td>0</td><td>0</td><td>0</td><td>0</td><td>0</td><td>0</td><td>0</td><td>0</td><td>0</td><td>null</td></tr></tbody></table></div>"
      ],
      "text/plain": [
       "shape: (5, 24)\n",
       "┌───────────┬────────┬───────┬────────┬───┬─────┬─────┬──────┬───────┐\n",
       "│ playerID  ┆ yearID ┆ stint ┆ teamID ┆ … ┆ SH  ┆ SF  ┆ GIDP ┆ G_old │\n",
       "│ ---       ┆ ---    ┆ ---   ┆ ---    ┆   ┆ --- ┆ --- ┆ ---  ┆ ---   │\n",
       "│ str       ┆ i64    ┆ i64   ┆ str    ┆   ┆ i64 ┆ i64 ┆ i64  ┆ i64   │\n",
       "╞═══════════╪════════╪═══════╪════════╪═══╪═════╪═════╪══════╪═══════╡\n",
       "│ aardsda01 ┆ 2004   ┆ 1     ┆ SFN    ┆ … ┆ 0   ┆ 0   ┆ 0    ┆ null  │\n",
       "│ aardsda01 ┆ 2006   ┆ 1     ┆ CHN    ┆ … ┆ 1   ┆ 0   ┆ 0    ┆ null  │\n",
       "│ aardsda01 ┆ 2007   ┆ 1     ┆ CHA    ┆ … ┆ 0   ┆ 0   ┆ 0    ┆ null  │\n",
       "│ aardsda01 ┆ 2008   ┆ 1     ┆ BOS    ┆ … ┆ 0   ┆ 0   ┆ 0    ┆ null  │\n",
       "│ aardsda01 ┆ 2009   ┆ 1     ┆ SEA    ┆ … ┆ 0   ┆ 0   ┆ 0    ┆ null  │\n",
       "└───────────┴────────┴───────┴────────┴───┴─────┴─────┴──────┴───────┘"
      ]
     },
     "execution_count": 12,
     "metadata": {},
     "output_type": "execute_result"
    }
   ],
   "source": [
    "batting = pl.read_csv(\"./data/lahman_1871-2024_csv/lahman_1871-2024_csv/Batting.csv\")\n",
    "\n",
    "batting.head()"
   ]
  },
  {
   "cell_type": "code",
   "execution_count": 13,
   "id": "79918173-61d2-4ec5-8e8f-ff1aa387a694",
   "metadata": {},
   "outputs": [
    {
     "data": {
      "text/html": [
       "<div><style>\n",
       ".dataframe > thead > tr,\n",
       ".dataframe > tbody > tr {\n",
       "  text-align: right;\n",
       "  white-space: pre-wrap;\n",
       "}\n",
       "</style>\n",
       "<small>shape: (5, 4)</small><table border=\"1\" class=\"dataframe\"><thead><tr><th>lgID</th><th>yearID</th><th>slugging_pct</th><th>dh_state</th></tr><tr><td>str</td><td>i64</td><td>f64</td><td>str</td></tr></thead><tbody><tr><td>&quot;AL&quot;</td><td>2024</td><td>0.394495</td><td>&quot;with DH&quot;</td></tr><tr><td>&quot;NL&quot;</td><td>2024</td><td>0.403911</td><td>&quot;with DH&quot;</td></tr><tr><td>&quot;AL&quot;</td><td>2023</td><td>0.411824</td><td>&quot;with DH&quot;</td></tr><tr><td>&quot;NL&quot;</td><td>2023</td><td>0.416498</td><td>&quot;with DH&quot;</td></tr><tr><td>&quot;AL&quot;</td><td>2022</td><td>0.391806</td><td>&quot;with DH&quot;</td></tr></tbody></table></div>"
      ],
      "text/plain": [
       "shape: (5, 4)\n",
       "┌──────┬────────┬──────────────┬──────────┐\n",
       "│ lgID ┆ yearID ┆ slugging_pct ┆ dh_state │\n",
       "│ ---  ┆ ---    ┆ ---          ┆ ---      │\n",
       "│ str  ┆ i64    ┆ f64          ┆ str      │\n",
       "╞══════╪════════╪══════════════╪══════════╡\n",
       "│ AL   ┆ 2024   ┆ 0.394495     ┆ with DH  │\n",
       "│ NL   ┆ 2024   ┆ 0.403911     ┆ with DH  │\n",
       "│ AL   ┆ 2023   ┆ 0.411824     ┆ with DH  │\n",
       "│ NL   ┆ 2023   ┆ 0.416498     ┆ with DH  │\n",
       "│ AL   ┆ 2022   ┆ 0.391806     ┆ with DH  │\n",
       "└──────┴────────┴──────────────┴──────────┘"
      ]
     },
     "execution_count": 13,
     "metadata": {},
     "output_type": "execute_result"
    }
   ],
   "source": [
    "batting_slg = (batting\n",
    " .filter(pl.col(\"yearID\") >= 1946)\n",
    " .group_by(\"yearID\", \"lgID\")\n",
    " .agg(  total_hits = pl.sum(\"H\"),\n",
    "        total_doubles = pl.sum(\"2B\"),\n",
    "        total_triples = pl.sum(\"3B\"),\n",
    "        total_homers = pl.sum(\"HR\"),\n",
    "        total_singles = (pl.sum(\"H\") - pl.sum(\"2B\") - pl.sum(\"3B\") - pl.sum(\"HR\")),\n",
    "        total_atbats = pl.sum(\"AB\")\n",
    ")\n",
    " .with_columns( slugging_pct = (pl.col(\"total_singles\") + (pl.col(\"total_doubles\") * 2) + (pl.col(\"total_triples\") * 3) + (pl.col(\"total_homers\") * 4)) \n",
    "                                / (pl.col(\"total_atbats\"))\n",
    "     \n",
    " )\n",
    ".with_columns( dh_state = (pl.when(((pl.col(\"lgID\") == \"AL\") & (pl.col(\"yearID\") >= 1973)) |((pl.col(\"lgID\") == \"NL\") & (pl.col(\"yearID\") >= 2022))\n",
    "        ) .then(pl.lit(\"with DH\"))\n",
    "         .otherwise(pl.lit(\"No DH\"))\n",
    "    )\n",
    ") \n",
    ".select(pl.col(\"lgID\", \"yearID\", \"slugging_pct\", \"dh_state\"))\n",
    ".sort(\"yearID\", descending=True)\n",
    ") \n",
    "batting_slg.head()\n"
   ]
  },
  {
   "cell_type": "code",
   "execution_count": 15,
   "id": "c418fb51-8efe-4eb9-9b5d-67ac3a7bce72",
   "metadata": {},
   "outputs": [],
   "source": [
    "batting_slg.write_csv(\"data/batting_slugging_pct_with_dh.csv\")"
   ]
  },
  {
   "cell_type": "code",
   "execution_count": null,
   "id": "55f52e72-b345-4197-badb-c67504176c8c",
   "metadata": {},
   "outputs": [],
   "source": []
  }
 ],
 "metadata": {
  "kernelspec": {
   "display_name": "Python 3 (ipykernel)",
   "language": "python",
   "name": "python3"
  },
  "language_info": {
   "codemirror_mode": {
    "name": "ipython",
    "version": 3
   },
   "file_extension": ".py",
   "mimetype": "text/x-python",
   "name": "python",
   "nbconvert_exporter": "python",
   "pygments_lexer": "ipython3",
   "version": "3.13.5"
  }
 },
 "nbformat": 4,
 "nbformat_minor": 5
}
